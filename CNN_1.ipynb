{
  "nbformat": 4,
  "nbformat_minor": 0,
  "metadata": {
    "colab": {
      "provenance": [],
      "gpuType": "T4"
    },
    "kernelspec": {
      "name": "python3",
      "display_name": "Python 3"
    },
    "language_info": {
      "name": "python"
    },
    "accelerator": "GPU"
  },
  "cells": [
    {
      "cell_type": "code",
      "execution_count": 1,
      "metadata": {
        "colab": {
          "base_uri": "https://localhost:8080/"
        },
        "id": "5reb5L5HBD5B",
        "outputId": "009e41e1-4e15-4f07-ffe9-76dc96fc18c9"
      },
      "outputs": [
        {
          "output_type": "stream",
          "name": "stdout",
          "text": [
            "\u001b[2K   \u001b[90m━━━━━━━━━━━━━━━━━━━━━━━━━━━━━━━━━━━━━━━━\u001b[0m \u001b[32m363.4/363.4 MB\u001b[0m \u001b[31m4.9 MB/s\u001b[0m eta \u001b[36m0:00:00\u001b[0m\n",
            "\u001b[2K   \u001b[90m━━━━━━━━━━━━━━━━━━━━━━━━━━━━━━━━━━━━━━━━\u001b[0m \u001b[32m13.8/13.8 MB\u001b[0m \u001b[31m40.3 MB/s\u001b[0m eta \u001b[36m0:00:00\u001b[0m\n",
            "\u001b[2K   \u001b[90m━━━━━━━━━━━━━━━━━━━━━━━━━━━━━━━━━━━━━━━━\u001b[0m \u001b[32m24.6/24.6 MB\u001b[0m \u001b[31m43.5 MB/s\u001b[0m eta \u001b[36m0:00:00\u001b[0m\n",
            "\u001b[2K   \u001b[90m━━━━━━━━━━━━━━━━━━━━━━━━━━━━━━━━━━━━━━━━\u001b[0m \u001b[32m883.7/883.7 kB\u001b[0m \u001b[31m62.6 MB/s\u001b[0m eta \u001b[36m0:00:00\u001b[0m\n",
            "\u001b[2K   \u001b[90m━━━━━━━━━━━━━━━━━━━━━━━━━━━━━━━━━━━━━━━━\u001b[0m \u001b[32m664.8/664.8 MB\u001b[0m \u001b[31m1.9 MB/s\u001b[0m eta \u001b[36m0:00:00\u001b[0m\n",
            "\u001b[2K   \u001b[90m━━━━━━━━━━━━━━━━━━━━━━━━━━━━━━━━━━━━━━━━\u001b[0m \u001b[32m211.5/211.5 MB\u001b[0m \u001b[31m5.6 MB/s\u001b[0m eta \u001b[36m0:00:00\u001b[0m\n",
            "\u001b[2K   \u001b[90m━━━━━━━━━━━━━━━━━━━━━━━━━━━━━━━━━━━━━━━━\u001b[0m \u001b[32m56.3/56.3 MB\u001b[0m \u001b[31m11.2 MB/s\u001b[0m eta \u001b[36m0:00:00\u001b[0m\n",
            "\u001b[2K   \u001b[90m━━━━━━━━━━━━━━━━━━━━━━━━━━━━━━━━━━━━━━━━\u001b[0m \u001b[32m127.9/127.9 MB\u001b[0m \u001b[31m8.9 MB/s\u001b[0m eta \u001b[36m0:00:00\u001b[0m\n",
            "\u001b[2K   \u001b[90m━━━━━━━━━━━━━━━━━━━━━━━━━━━━━━━━━━━━━━━━\u001b[0m \u001b[32m207.5/207.5 MB\u001b[0m \u001b[31m5.7 MB/s\u001b[0m eta \u001b[36m0:00:00\u001b[0m\n",
            "\u001b[2K   \u001b[90m━━━━━━━━━━━━━━━━━━━━━━━━━━━━━━━━━━━━━━━━\u001b[0m \u001b[32m21.1/21.1 MB\u001b[0m \u001b[31m42.3 MB/s\u001b[0m eta \u001b[36m0:00:00\u001b[0m\n",
            "\u001b[?25h"
          ]
        }
      ],
      "source": [
        "!pip install torch torchvision -qq"
      ]
    },
    {
      "cell_type": "code",
      "source": [
        "import torch\n",
        "import torch.nn as nn\n",
        "import torch.optim as optim\n",
        "import torchvision\n",
        "import torchvision.transforms as transforms\n",
        "import torch.utils.data as DataLoader"
      ],
      "metadata": {
        "id": "y7GBn76pRP1O"
      },
      "execution_count": 2,
      "outputs": []
    },
    {
      "cell_type": "markdown",
      "source": [
        "#### Define transformations: convert to tensor and normalize (mean=0.5, std=0.5 for grayscale)\n",
        "\n",
        "MNIST images are 28x28 pixels, grayscale, with 60,000 training and 10,000 test images. We’ll normalize the pixel values and load the data using PyTorch’s DataLoader."
      ],
      "metadata": {
        "id": "QKWuJLF7Sfdv"
      }
    },
    {
      "cell_type": "code",
      "source": [
        "# Define transformations: convert to tensor and normalize (mean=0.5, std=0.5 for grayscale)\n",
        "transform = transforms.Compose([transforms.ToTensor(),transforms.Normalize(mean=0.5,std=0.5)])"
      ],
      "metadata": {
        "id": "Z7tO-SBMRP4C"
      },
      "execution_count": 3,
      "outputs": []
    },
    {
      "cell_type": "code",
      "source": [
        "# Load MNIST dataset\n",
        "train_dataset = torchvision.datasets.MNIST(root='./data',train=True,transform=transform,download=True)\n",
        "test_dataset = torchvision.datasets.MNIST(root='./data',train=False,transform=transform,download=True)"
      ],
      "metadata": {
        "colab": {
          "base_uri": "https://localhost:8080/"
        },
        "id": "eEIgSlS3RP6_",
        "outputId": "405982de-cf4a-417e-c4f9-53e15b6744b0"
      },
      "execution_count": 4,
      "outputs": [
        {
          "output_type": "stream",
          "name": "stderr",
          "text": [
            "100%|██████████| 9.91M/9.91M [00:01<00:00, 4.98MB/s]\n",
            "100%|██████████| 28.9k/28.9k [00:00<00:00, 166kB/s]\n",
            "100%|██████████| 1.65M/1.65M [00:01<00:00, 1.52MB/s]\n",
            "100%|██████████| 4.54k/4.54k [00:00<00:00, 6.21MB/s]\n"
          ]
        }
      ]
    },
    {
      "cell_type": "markdown",
      "source": [
        "#Explanation:\n",
        "\n",
        "###**transforms.ToTensor():** Converts images to PyTorch tensors (shape: [1, 28, 28] for grayscale).\n",
        "###**transforms.Normalize((0.5,), (0.5,)):** Normalizes pixel values to [-1, 1] for faster training.\n",
        "###**DataLoader:** Batches data (64 images per batch), shuffles training data, and loads it efficiently."
      ],
      "metadata": {
        "id": "kEto5lvjT3Kn"
      }
    },
    {
      "cell_type": "code",
      "source": [
        "# DataLoader for batch processing\n",
        "train_loader = torch.utils.data.DataLoader(train_dataset,batch_size=64,shuffle=True)\n",
        "test_loader = torch.utils.data.DataLoader(test_dataset,batch_size=64,shuffle=False)"
      ],
      "metadata": {
        "id": "I5zqfQZIRQB_"
      },
      "execution_count": 5,
      "outputs": []
    },
    {
      "cell_type": "markdown",
      "source": [
        "#Define the CNN Model\n",
        "\n",
        "###We’ll create a simple CNN with **two convolutional layers, max-pooling, and fully connected layers.**"
      ],
      "metadata": {
        "id": "tWVV6ghPUNyW"
      }
    },
    {
      "cell_type": "markdown",
      "source": [
        "#Explanation:\n",
        "\n",
        "###**nn.Module:** Base class for the CNN. We define layers in __init__ and the forward pass in forward.\n",
        "###**nn.Conv2d:** Convolutional layer. For example, conv1 takes 1-channel input (grayscale), outputs 16 feature maps, uses a 3x3 kernel, and padding=1 to maintain size.\n",
        "###**nn.ReLU:** Activation function for non-linearity.\n",
        "###**nn.MaxPool2d:** Downsamples feature maps (e.g., 28x28 → 14x14).\n",
        "###**view:** Flattens the tensor for fully connected layers.\n",
        "The final output is 10 values (one per digit), which we’ll pass through a softmax during loss calculation."
      ],
      "metadata": {
        "id": "vnT0XeKeZ3oG"
      }
    },
    {
      "cell_type": "code",
      "source": [
        "class CNN(nn.Module):\n",
        "    def __init__(self):\n",
        "        super(CNN, self).__init__()\n",
        "        # First conv layer: input 1 channel (grayscale), output 16 channels, 3x3 kernel\n",
        "        self.conv1 = nn.Conv2d(in_channels=1,out_channels=16,kernel_size=3,stride=1,padding=1)\n",
        "        self.relu = nn.ReLU()\n",
        "        self.pool = nn.MaxPool2d(kernel_size=2,stride=2)\n",
        "        # Second conv layer: input 16 channels, output 32 channels, 3x3 kernel\n",
        "        self.conv2 = nn.Conv2d(in_channels=16,out_channels=32, kernel_size=3, stride=1, padding=1)\n",
        "        # Fully connected layers\n",
        "        self.fc1 = nn.Linear(32 * 7 * 7, 128)  # After pooling, image size is 7x7\n",
        "        self.fc2 = nn.Linear(128, 10)  # 10 output classes (digits 0–9)\n",
        "\n",
        "    def forward(self, x):\n",
        "        # x shape: [batch_size, 1, 28, 28]\n",
        "        x = self.pool(self.relu(self.conv1(x)))  # Output: [batch_size, 16, 14, 14]\n",
        "        x = self.pool(self.relu(self.conv2(x)))  # Output: [batch_size, 32, 7, 7]\n",
        "        x = x.view(-1, 32 * 7 * 7)  # Flatten to [batch_size, 32*7*7]\n",
        "        x = self.relu(self.fc1(x))  # Output: [batch_size, 128]\n",
        "        x = self.fc2(x)  # Output: [batch_size, 10]\n",
        "        return x"
      ],
      "metadata": {
        "id": "0ZoDZaIJRQFU"
      },
      "execution_count": 6,
      "outputs": []
    },
    {
      "cell_type": "code",
      "source": [
        "# Instantiate model\n",
        "model = CNN()"
      ],
      "metadata": {
        "id": "eX7iBWkVZMFu"
      },
      "execution_count": 7,
      "outputs": []
    },
    {
      "cell_type": "markdown",
      "source": [
        "##Set Up Loss Function and Optimizer\n",
        "We use **cross-entropy loss** (common for classification) and the Adam optimizer."
      ],
      "metadata": {
        "id": "3hU2fc78aMc3"
      }
    },
    {
      "cell_type": "markdown",
      "source": [
        "#Explanation:\n",
        "\n",
        "###**nn.CrossEntropyLoss:** Computes the loss between predicted probabilities and true labels.\n",
        "###**optim.Adam:** Optimizes model parameters with a learning rate of 0.001."
      ],
      "metadata": {
        "id": "0tWlXT0CamWu"
      }
    },
    {
      "cell_type": "code",
      "source": [
        "criterion = nn.CrossEntropyLoss()  # Combines softmax and loss calculation\n",
        "optimizer = optim.Adam(model.parameters(), lr=0.01)"
      ],
      "metadata": {
        "id": "CNikF6O2ZMHp"
      },
      "execution_count": 8,
      "outputs": []
    },
    {
      "cell_type": "markdown",
      "source": [
        "#Train the Model\n",
        "We’ll train for 5 epochs, processing batches and updating weights."
      ],
      "metadata": {
        "id": "I-7ruZZKa0ck"
      }
    },
    {
      "cell_type": "code",
      "source": [
        "device = torch.device(\"cuda\" if torch.cuda.is_available() else \"cpu\")\n",
        "model.to(device)"
      ],
      "metadata": {
        "colab": {
          "base_uri": "https://localhost:8080/"
        },
        "id": "cXpks7J6ZMKA",
        "outputId": "c3c0ec7a-8fc5-4b1f-d82e-e43e8a2160d7"
      },
      "execution_count": 9,
      "outputs": [
        {
          "output_type": "execute_result",
          "data": {
            "text/plain": [
              "CNN(\n",
              "  (conv1): Conv2d(1, 16, kernel_size=(3, 3), stride=(1, 1), padding=(1, 1))\n",
              "  (relu): ReLU()\n",
              "  (pool): MaxPool2d(kernel_size=2, stride=2, padding=0, dilation=1, ceil_mode=False)\n",
              "  (conv2): Conv2d(16, 32, kernel_size=(3, 3), stride=(1, 1), padding=(1, 1))\n",
              "  (fc1): Linear(in_features=1568, out_features=128, bias=True)\n",
              "  (fc2): Linear(in_features=128, out_features=10, bias=True)\n",
              ")"
            ]
          },
          "metadata": {},
          "execution_count": 9
        }
      ]
    },
    {
      "cell_type": "markdown",
      "source": [
        "#Explanation:\n",
        "\n",
        "###**model.train():** Enables training mode (e.g., activates dropout if used).\n",
        "###**optimizer.zero_grad():** Clears old gradients.\n",
        "###**loss.backward():** Computes gradients via autograd.\n",
        "###**optimizer.step():** Updates weights.\n",
        "The loop processes batches, computes loss, and updates the model."
      ],
      "metadata": {
        "id": "RorAPKj3dmNV"
      }
    },
    {
      "cell_type": "code",
      "source": [
        "for epoch in range(5):\n",
        "  model.train()   # set model to train mode\n",
        "  running_loss = 0.0\n",
        "  for images, labels in train_loader:\n",
        "    images, labels = images.to(device), labels.to(device)\n",
        "    #zero grad\n",
        "    optimizer.zero_grad()\n",
        "    #forward pass\n",
        "    outputs = model(images)\n",
        "    #calculate loss\n",
        "    loss = criterion(outputs, labels)\n",
        "    #backward pass\n",
        "    loss.backward()\n",
        "    #update weights\n",
        "    optimizer.step()\n",
        "    #update loss\n",
        "    running_loss += loss.item()\n",
        "\n",
        "  print(f\"Epoch {epoch+1}, Loss: {running_loss/len(train_loader):.4f}\")"
      ],
      "metadata": {
        "colab": {
          "base_uri": "https://localhost:8080/"
        },
        "id": "D897xmw-ZMMs",
        "outputId": "5080d90d-fbe3-4549-9c26-b23e10ee555a"
      },
      "execution_count": 10,
      "outputs": [
        {
          "output_type": "stream",
          "name": "stdout",
          "text": [
            "Epoch 1, Loss: 0.2259\n",
            "Epoch 2, Loss: 0.0987\n",
            "Epoch 3, Loss: 0.0837\n",
            "Epoch 4, Loss: 0.0834\n",
            "Epoch 5, Loss: 0.0779\n"
          ]
        }
      ]
    },
    {
      "cell_type": "markdown",
      "source": [
        "#Evaluate the Model\n",
        "Test the model on the test dataset to compute accuracy."
      ],
      "metadata": {
        "id": "W56MPe4zd2qY"
      }
    },
    {
      "cell_type": "code",
      "source": [
        "model.eval()   # set model to evaluate mode\n",
        "correct = 0\n",
        "total = 0\n",
        "with torch.no_grad():  # Disable gradient computation for inference (as its test data)\n",
        "  for images, labels in test_loader:\n",
        "    images, labels = images.to(device), labels.to(device)\n",
        "    outputs = model(images)\n",
        "    _, predicted = torch.max(outputs.data, 1)\n",
        "    total += labels.size(0)\n",
        "    correct += (predicted == labels).sum().item()\n",
        "\n",
        "print(f\"Accuracy on the test set: {100 * correct / total}%\")"
      ],
      "metadata": {
        "colab": {
          "base_uri": "https://localhost:8080/"
        },
        "id": "TW7yBdNnZMPg",
        "outputId": "4a029fa3-2365-4cd6-91df-7a1075c39cae"
      },
      "execution_count": 11,
      "outputs": [
        {
          "output_type": "stream",
          "name": "stdout",
          "text": [
            "Accuracy on the test set: 98.16%\n"
          ]
        }
      ]
    },
    {
      "cell_type": "code",
      "source": [
        "import matplotlib.pyplot as plt\n",
        "\n",
        "# Hyperparameter configurations\n",
        "experiments = [\n",
        "    {\"batch_size\": 32, \"lr\": 0.001},\n",
        "    {\"batch_size\": 128, \"lr\": 0.001},\n",
        "    {\"batch_size\": 32, \"lr\": 0.0001},\n",
        "]\n",
        "\n",
        "# Run experiments\n",
        "for exp in experiments:\n",
        "    batch_size = exp[\"batch_size\"]\n",
        "    lr = exp[\"lr\"]\n",
        "    print(f\"\\nExperiment: Batch Size={batch_size}, Learning Rate={lr}, Dropout=0.5\")\n",
        "\n",
        "    # Create DataLoaders\n",
        "    train_loader = torch.utils.data.DataLoader(train_dataset, batch_size=batch_size, shuffle=True)\n",
        "    test_loader = torch.utils.data.DataLoader(test_dataset, batch_size=batch_size, shuffle=False)\n",
        "\n",
        "    # Initialize model, loss, and optimizer\n",
        "    model = CNN().to(device)\n",
        "    criterion = nn.CrossEntropyLoss()\n",
        "    optimizer = optim.Adam(model.parameters(), lr=lr)\n",
        "\n",
        "    # Train the model\n",
        "    for epoch in range(5):\n",
        "        model.train()\n",
        "        running_loss = 0.0\n",
        "        for images, labels in train_loader:\n",
        "            images, labels = images.to(device), labels.to(device)\n",
        "            optimizer.zero_grad()\n",
        "            outputs = model(images)\n",
        "            loss = criterion(outputs, labels)\n",
        "            loss.backward()\n",
        "            optimizer.step()\n",
        "            running_loss += loss.item()\n",
        "        print(f\"Epoch {epoch+1}, Loss: {running_loss/len(train_loader):.4f}\")\n",
        "\n",
        "    # Evaluate and collect images for visualization\n",
        "    model.eval()\n",
        "    correct = 0\n",
        "    total = 0\n",
        "    images_list = []\n",
        "    predictions = []\n",
        "    true_labels = []\n",
        "    with torch.no_grad():\n",
        "        for images, labels in test_loader:\n",
        "            images, labels = images.to(device), labels.to(device)\n",
        "            outputs = model(images)\n",
        "            _, predicted = torch.max(outputs.data, 1)\n",
        "            total += labels.size(0)\n",
        "            correct += (predicted == labels).sum().item()\n",
        "            if len(predictions) < 9:  # Collect up to 9 images for 3x3 grid\n",
        "                num_to_collect = min(9 - len(predictions), images.size(0))\n",
        "                predictions.extend(predicted[:num_to_collect].cpu().numpy())\n",
        "                true_labels.extend(labels[:num_to_collect].cpu().numpy())\n",
        "                images_list.extend(images[:num_to_collect].cpu().numpy())\n",
        "\n",
        "\n",
        "    accuracy = 100 * correct / total\n",
        "    print(f\"Test Accuracy: {accuracy:.2f}%\")\n",
        "\n",
        "    # Visualize predictions\n",
        "    plt.figure(figsize=(8, 8))\n",
        "    for i in range(len(images_list)): # Iterate up to the number of collected images\n",
        "        plt.subplot(3, 3, i+1)\n",
        "        img = images_list[i].squeeze() * 0.5 + 0.5  # Rescale image from [-1, 1] to [0, 1]\n",
        "        plt.imshow(img, cmap='gray')\n",
        "        plt.title(f\"Pred: {predictions[i]}\\nTrue: {true_labels[i]}\")\n",
        "        plt.axis('off')\n",
        "    plt.tight_layout()\n",
        "    plt.show()"
      ],
      "metadata": {
        "colab": {
          "base_uri": "https://localhost:8080/",
          "height": 1000
        },
        "id": "I1iZdsd8ZMTI",
        "outputId": "ba05a8ef-3c47-4b1c-d047-6e9a7cad25f9"
      },
      "execution_count": 21,
      "outputs": [
        {
          "output_type": "stream",
          "name": "stdout",
          "text": [
            "\n",
            "Experiment: Batch Size=32, Learning Rate=0.001, Dropout=0.5\n",
            "Epoch 1, Loss: 0.1476\n",
            "Epoch 2, Loss: 0.0471\n",
            "Epoch 3, Loss: 0.0328\n",
            "Epoch 4, Loss: 0.0239\n",
            "Epoch 5, Loss: 0.0183\n",
            "Test Accuracy: 98.91%\n"
          ]
        },
        {
          "output_type": "display_data",
          "data": {
            "text/plain": [
              "<Figure size 800x800 with 9 Axes>"
            ],
            "image/png": "[encoded data removed]"
          },
          "metadata": {}
        },
        {
          "output_type": "stream",
          "name": "stdout",
          "text": [
            "\n",
            "Experiment: Batch Size=128, Learning Rate=0.001, Dropout=0.5\n",
            "Epoch 1, Loss: 0.2745\n",
            "Epoch 2, Loss: 0.0669\n",
            "Epoch 3, Loss: 0.0475\n",
            "Epoch 4, Loss: 0.0368\n",
            "Epoch 5, Loss: 0.0299\n",
            "Test Accuracy: 98.92%\n"
          ]
        },
        {
          "output_type": "display_data",
          "data": {
            "text/plain": [
              "<Figure size 800x800 with 9 Axes>"
            ],
            "image/png": "[encoded data removed]"
          },
          "metadata": {}
        },
        {
          "output_type": "stream",
          "name": "stdout",
          "text": [
            "\n",
            "Experiment: Batch Size=32, Learning Rate=0.0001, Dropout=0.5\n",
            "Epoch 1, Loss: 0.4981\n",
            "Epoch 2, Loss: 0.1239\n",
            "Epoch 3, Loss: 0.0863\n",
            "Epoch 4, Loss: 0.0692\n",
            "Epoch 5, Loss: 0.0588\n",
            "Test Accuracy: 98.45%\n"
          ]
        },
        {
          "output_type": "display_data",
          "data": {
            "text/plain": [
              "<Figure size 800x800 with 9 Axes>"
            ],
            "image/png": "[encoded data removed]"
          },
          "metadata": {}
        }
      ]
    }
  ]
}