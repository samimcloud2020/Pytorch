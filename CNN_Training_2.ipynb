{
  "nbformat": 4,
  "nbformat_minor": 0,
  "metadata": {
    "colab": {
      "provenance": []
    },
    "kernelspec": {
      "name": "python3",
      "display_name": "Python 3"
    },
    "language_info": {
      "name": "python"
    }
  },
  "cells": [
    {
      "cell_type": "code",
      "execution_count": 31,
      "metadata": {
        "id": "zBdSpCUwsnXr"
      },
      "outputs": [],
      "source": [
        "import torch\n",
        "import torch.nn as nn"
      ]
    },
    {
      "cell_type": "code",
      "source": [
        "X = torch.tensor([\n",
        "    [40.2],\n",
        "    [10.3],\n",
        "    [13.4],\n",
        "    [10.1]], dtype=torch.float32)\n",
        "y = torch.tensor([\n",
        "    [20.1],\n",
        "    [4.2],\n",
        "    [1.2],\n",
        "    [20.4]], dtype=torch.float32)"
      ],
      "metadata": {
        "id": "HHbljiVesx0X"
      },
      "execution_count": 32,
      "outputs": []
    },
    {
      "cell_type": "code",
      "source": [
        "model = nn.Linear(1,1)\n",
        "model"
      ],
      "metadata": {
        "colab": {
          "base_uri": "https://localhost:8080/"
        },
        "id": "hOpSWx1zsx5W",
        "outputId": "499d2c20-4a31-491f-edfc-036089979144"
      },
      "execution_count": 33,
      "outputs": [
        {
          "output_type": "execute_result",
          "data": {
            "text/plain": [
              "Linear(in_features=1, out_features=1, bias=True)"
            ]
          },
          "metadata": {},
          "execution_count": 33
        }
      ]
    },
    {
      "cell_type": "code",
      "source": [
        "loss_fn = torch.nn.MSELoss()"
      ],
      "metadata": {
        "id": "FGTTjWD4sx8P"
      },
      "execution_count": 34,
      "outputs": []
    },
    {
      "cell_type": "code",
      "source": [
        "optimizer = torch.optim.SGD(model.parameters(), lr=0.001)\n"
      ],
      "metadata": {
        "id": "ZYx_B3WNsx_I"
      },
      "execution_count": 35,
      "outputs": []
    },
    {
      "cell_type": "code",
      "source": [
        "for i in range(0, 10000):\n",
        "  optimizer.zero_grad()\n",
        "  outputs = model(X)\n",
        "  loss = loss_fn(outputs, y)\n",
        "  loss.backward()\n",
        "  optimizer.step()\n",
        "\n",
        "  if i % 1000 == 0:\n",
        "    print(f\"Epoch: {i}, Loss: {loss.item()} Weight: {model.weight} Bias: {model.bias}\")\n"
      ],
      "metadata": {
        "colab": {
          "base_uri": "https://localhost:8080/"
        },
        "id": "Ud9SvNdO8jXe",
        "outputId": "7aa8537d-b0b5-42d0-a118-187b275c1850"
      },
      "execution_count": 36,
      "outputs": [
        {
          "output_type": "stream",
          "name": "stdout",
          "text": [
            "Epoch: 0, Loss: 149.52456665039062 Weight: Parameter containing:\n",
            "tensor([[0.5706]], requires_grad=True) Bias: Parameter containing:\n",
            "tensor([-0.9073], requires_grad=True)\n",
            "Epoch: 1000, Loss: 61.38612365722656 Weight: Parameter containing:\n",
            "tensor([[0.4680]], requires_grad=True) Bias: Parameter containing:\n",
            "tensor([1.8340], requires_grad=True)\n",
            "Epoch: 2000, Loss: 59.19125747680664 Weight: Parameter containing:\n",
            "tensor([[0.4142]], requires_grad=True) Bias: Parameter containing:\n",
            "tensor([3.2899], requires_grad=True)\n",
            "Epoch: 3000, Loss: 58.572235107421875 Weight: Parameter containing:\n",
            "tensor([[0.3857]], requires_grad=True) Bias: Parameter containing:\n",
            "tensor([4.0630], requires_grad=True)\n",
            "Epoch: 4000, Loss: 58.397647857666016 Weight: Parameter containing:\n",
            "tensor([[0.3705]], requires_grad=True) Bias: Parameter containing:\n",
            "tensor([4.4736], requires_grad=True)\n",
            "Epoch: 5000, Loss: 58.34840393066406 Weight: Parameter containing:\n",
            "tensor([[0.3624]], requires_grad=True) Bias: Parameter containing:\n",
            "tensor([4.6917], requires_grad=True)\n",
            "Epoch: 6000, Loss: 58.33451843261719 Weight: Parameter containing:\n",
            "tensor([[0.3582]], requires_grad=True) Bias: Parameter containing:\n",
            "tensor([4.8075], requires_grad=True)\n",
            "Epoch: 7000, Loss: 58.330596923828125 Weight: Parameter containing:\n",
            "tensor([[0.3559]], requires_grad=True) Bias: Parameter containing:\n",
            "tensor([4.8690], requires_grad=True)\n",
            "Epoch: 8000, Loss: 58.329498291015625 Weight: Parameter containing:\n",
            "tensor([[0.3547]], requires_grad=True) Bias: Parameter containing:\n",
            "tensor([4.9017], requires_grad=True)\n",
            "Epoch: 9000, Loss: 58.329185485839844 Weight: Parameter containing:\n",
            "tensor([[0.3540]], requires_grad=True) Bias: Parameter containing:\n",
            "tensor([4.9190], requires_grad=True)\n"
          ]
        }
      ]
    },
    {
      "cell_type": "code",
      "source": [
        "m = torch.tensor([\n",
        "    [10.3]\n",
        "    ], dtype=torch.float32)"
      ],
      "metadata": {
        "id": "9tObsnUp8jaO"
      },
      "execution_count": 37,
      "outputs": []
    },
    {
      "cell_type": "code",
      "source": [
        "model.eval()"
      ],
      "metadata": {
        "colab": {
          "base_uri": "https://localhost:8080/"
        },
        "id": "0P76Guhe-4wF",
        "outputId": "87b1552e-3f9a-4f16-88b9-af9296c603c6"
      },
      "execution_count": 38,
      "outputs": [
        {
          "output_type": "execute_result",
          "data": {
            "text/plain": [
              "Linear(in_features=1, out_features=1, bias=True)"
            ]
          },
          "metadata": {},
          "execution_count": 38
        }
      ]
    },
    {
      "cell_type": "code",
      "source": [
        "with torch.no_grad():\n",
        "  prediction= model(m)\n",
        "  print(prediction)"
      ],
      "metadata": {
        "colab": {
          "base_uri": "https://localhost:8080/"
        },
        "id": "zPXQxtJK8jdP",
        "outputId": "22fc92b1-c11e-49fe-85e5-085b0c713efb"
      },
      "execution_count": 39,
      "outputs": [
        {
          "output_type": "stream",
          "name": "stdout",
          "text": [
            "tensor([[8.5713]])\n"
          ]
        }
      ]
    },
    {
      "cell_type": "code",
      "source": [],
      "metadata": {
        "id": "0myLbxjk8jhi"
      },
      "execution_count": 39,
      "outputs": []
    },
    {
      "cell_type": "code",
      "source": [],
      "metadata": {
        "id": "aClwMPnl8jk9"
      },
      "execution_count": 39,
      "outputs": []
    }
  ]
}