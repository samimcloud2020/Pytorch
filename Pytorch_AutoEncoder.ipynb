{
  "nbformat": 4,
  "nbformat_minor": 0,
  "metadata": {
    "colab": {
      "provenance": []
    },
    "kernelspec": {
      "name": "python3",
      "display_name": "Python 3"
    },
    "language_info": {
      "name": "python"
    }
  },
  "cells": [
    {
      "cell_type": "code",
      "execution_count": 85,
      "metadata": {
        "id": "1cmIs8R12X3G"
      },
      "outputs": [],
      "source": [
        "import torch\n",
        "import torch.nn as nn\n",
        "import torch.optim as optim\n",
        "from torch.utils.data import DataLoader, TensorDataset\n",
        "import numpy as np\n",
        "import pandas as pd\n",
        "from sklearn.preprocessing import StandardScaler\n",
        "from sklearn.model_selection import train_test_split"
      ]
    },
    {
      "cell_type": "code",
      "source": [
        "data = pd.read_csv(\"/content/telecom_data.csv\")\n",
        "data.head()"
      ],
      "metadata": {
        "colab": {
          "base_uri": "https://localhost:8080/",
          "height": 206
        },
        "id": "D-4Gp6TV20OK",
        "outputId": "ae82c571-5287-4dd7-df61-e149e1d765db"
      },
      "execution_count": 86,
      "outputs": [
        {
          "output_type": "execute_result",
          "data": {
            "text/plain": [
              "   call_duration  data_usage  num_calls  sms_count  customer_id\n",
              "0             39        0.14         13          1            1\n",
              "1             52        2.51          9         24            2\n",
              "2             29        4.93         21         15            3\n",
              "3             15        1.46          9         45            4\n",
              "4             43        2.04          8         15            5"
            ],
            "text/html": [
              "\n",
              "  <div id=\"df-91fe7854-2585-4d3f-8f96-3292afd982e2\" class=\"colab-df-container\">\n",
              "    <div>\n",
              "<style scoped>\n",
              "    .dataframe tbody tr th:only-of-type {\n",
              "        vertical-align: middle;\n",
              "    }\n",
              "\n",
              "    .dataframe tbody tr th {\n",
              "        vertical-align: top;\n",
              "    }\n",
              "\n",
              "    .dataframe thead th {\n",
              "        text-align: right;\n",
              "    }\n",
              "</style>\n",
              "<table border=\"1\" class=\"dataframe\">\n",
              "  <thead>\n",
              "    <tr style=\"text-align: right;\">\n",
              "      <th></th>\n",
              "      <th>call_duration</th>\n",
              "      <th>data_usage</th>\n",
              "      <th>num_calls</th>\n",
              "      <th>sms_count</th>\n",
              "      <th>customer_id</th>\n",
              "    </tr>\n",
              "  </thead>\n",
              "  <tbody>\n",
              "    <tr>\n",
              "      <th>0</th>\n",
              "      <td>39</td>\n",
              "      <td>0.14</td>\n",
              "      <td>13</td>\n",
              "      <td>1</td>\n",
              "      <td>1</td>\n",
              "    </tr>\n",
              "    <tr>\n",
              "      <th>1</th>\n",
              "      <td>52</td>\n",
              "      <td>2.51</td>\n",
              "      <td>9</td>\n",
              "      <td>24</td>\n",
              "      <td>2</td>\n",
              "    </tr>\n",
              "    <tr>\n",
              "      <th>2</th>\n",
              "      <td>29</td>\n",
              "      <td>4.93</td>\n",
              "      <td>21</td>\n",
              "      <td>15</td>\n",
              "      <td>3</td>\n",
              "    </tr>\n",
              "    <tr>\n",
              "      <th>3</th>\n",
              "      <td>15</td>\n",
              "      <td>1.46</td>\n",
              "      <td>9</td>\n",
              "      <td>45</td>\n",
              "      <td>4</td>\n",
              "    </tr>\n",
              "    <tr>\n",
              "      <th>4</th>\n",
              "      <td>43</td>\n",
              "      <td>2.04</td>\n",
              "      <td>8</td>\n",
              "      <td>15</td>\n",
              "      <td>5</td>\n",
              "    </tr>\n",
              "  </tbody>\n",
              "</table>\n",
              "</div>\n",
              "    <div class=\"colab-df-buttons\">\n",
              "\n",
              "  <div class=\"colab-df-container\">\n",
              "    <button class=\"colab-df-convert\" onclick=\"convertToInteractive('df-91fe7854-2585-4d3f-8f96-3292afd982e2')\"\n",
              "            title=\"Convert this dataframe to an interactive table.\"\n",
              "            style=\"display:none;\">\n",
              "\n",
              "  <svg xmlns=\"http://www.w3.org/2000/svg\" height=\"24px\" viewBox=\"0 -960 960 960\">\n",
              "    <path d=\"M120-120v-720h720v720H120Zm60-500h600v-160H180v160Zm220 220h160v-160H400v160Zm0 220h160v-160H400v160ZM180-400h160v-160H180v160Zm440 0h160v-160H620v160ZM180-180h160v-160H180v160Zm440 0h160v-160H620v160Z\"/>\n",
              "  </svg>\n",
              "    </button>\n",
              "\n",
              "  <style>\n",
              "    .colab-df-container {\n",
              "      display:flex;\n",
              "      gap: 12px;\n",
              "    }\n",
              "\n",
              "    .colab-df-convert {\n",
              "      background-color: #E8F0FE;\n",
              "      border: none;\n",
              "      border-radius: 50%;\n",
              "      cursor: pointer;\n",
              "      display: none;\n",
              "      fill: #1967D2;\n",
              "      height: 32px;\n",
              "      padding: 0 0 0 0;\n",
              "      width: 32px;\n",
              "    }\n",
              "\n",
              "    .colab-df-convert:hover {\n",
              "      background-color: #E2EBFA;\n",
              "      box-shadow: 0px 1px 2px rgba(60, 64, 67, 0.3), 0px 1px 3px 1px rgba(60, 64, 67, 0.15);\n",
              "      fill: #174EA6;\n",
              "    }\n",
              "\n",
              "    .colab-df-buttons div {\n",
              "      margin-bottom: 4px;\n",
              "    }\n",
              "\n",
              "    [theme=dark] .colab-df-convert {\n",
              "      background-color: #3B4455;\n",
              "      fill: #D2E3FC;\n",
              "    }\n",
              "\n",
              "    [theme=dark] .colab-df-convert:hover {\n",
              "      background-color: #434B5C;\n",
              "      box-shadow: 0px 1px 3px 1px rgba(0, 0, 0, 0.15);\n",
              "      filter: drop-shadow(0px 1px 2px rgba(0, 0, 0, 0.3));\n",
              "      fill: #FFFFFF;\n",
              "    }\n",
              "  </style>\n",
              "\n",
              "    <script>\n",
              "      const buttonEl =\n",
              "        document.querySelector('#df-91fe7854-2585-4d3f-8f96-3292afd982e2 button.colab-df-convert');\n",
              "      buttonEl.style.display =\n",
              "        google.colab.kernel.accessAllowed ? 'block' : 'none';\n",
              "\n",
              "      async function convertToInteractive(key) {\n",
              "        const element = document.querySelector('#df-91fe7854-2585-4d3f-8f96-3292afd982e2');\n",
              "        const dataTable =\n",
              "          await google.colab.kernel.invokeFunction('convertToInteractive',\n",
              "                                                    [key], {});\n",
              "        if (!dataTable) return;\n",
              "\n",
              "        const docLinkHtml = 'Like what you see? Visit the ' +\n",
              "          '<a target=\"_blank\" href=https://colab.research.google.com/notebooks/data_table.ipynb>data table notebook</a>'\n",
              "          + ' to learn more about interactive tables.';\n",
              "        element.innerHTML = '';\n",
              "        dataTable['output_type'] = 'display_data';\n",
              "        await google.colab.output.renderOutput(dataTable, element);\n",
              "        const docLink = document.createElement('div');\n",
              "        docLink.innerHTML = docLinkHtml;\n",
              "        element.appendChild(docLink);\n",
              "      }\n",
              "    </script>\n",
              "  </div>\n",
              "\n",
              "\n",
              "    <div id=\"df-41c5f304-2b86-4645-b2db-b84b342abb26\">\n",
              "      <button class=\"colab-df-quickchart\" onclick=\"quickchart('df-41c5f304-2b86-4645-b2db-b84b342abb26')\"\n",
              "                title=\"Suggest charts\"\n",
              "                style=\"display:none;\">\n",
              "\n",
              "<svg xmlns=\"http://www.w3.org/2000/svg\" height=\"24px\"viewBox=\"0 0 24 24\"\n",
              "     width=\"24px\">\n",
              "    <g>\n",
              "        <path d=\"M19 3H5c-1.1 0-2 .9-2 2v14c0 1.1.9 2 2 2h14c1.1 0 2-.9 2-2V5c0-1.1-.9-2-2-2zM9 17H7v-7h2v7zm4 0h-2V7h2v10zm4 0h-2v-4h2v4z\"/>\n",
              "    </g>\n",
              "</svg>\n",
              "      </button>\n",
              "\n",
              "<style>\n",
              "  .colab-df-quickchart {\n",
              "      --bg-color: #E8F0FE;\n",
              "      --fill-color: #1967D2;\n",
              "      --hover-bg-color: #E2EBFA;\n",
              "      --hover-fill-color: #174EA6;\n",
              "      --disabled-fill-color: #AAA;\n",
              "      --disabled-bg-color: #DDD;\n",
              "  }\n",
              "\n",
              "  [theme=dark] .colab-df-quickchart {\n",
              "      --bg-color: #3B4455;\n",
              "      --fill-color: #D2E3FC;\n",
              "      --hover-bg-color: #434B5C;\n",
              "      --hover-fill-color: #FFFFFF;\n",
              "      --disabled-bg-color: #3B4455;\n",
              "      --disabled-fill-color: #666;\n",
              "  }\n",
              "\n",
              "  .colab-df-quickchart {\n",
              "    background-color: var(--bg-color);\n",
              "    border: none;\n",
              "    border-radius: 50%;\n",
              "    cursor: pointer;\n",
              "    display: none;\n",
              "    fill: var(--fill-color);\n",
              "    height: 32px;\n",
              "    padding: 0;\n",
              "    width: 32px;\n",
              "  }\n",
              "\n",
              "  .colab-df-quickchart:hover {\n",
              "    background-color: var(--hover-bg-color);\n",
              "    box-shadow: 0 1px 2px rgba(60, 64, 67, 0.3), 0 1px 3px 1px rgba(60, 64, 67, 0.15);\n",
              "    fill: var(--button-hover-fill-color);\n",
              "  }\n",
              "\n",
              "  .colab-df-quickchart-complete:disabled,\n",
              "  .colab-df-quickchart-complete:disabled:hover {\n",
              "    background-color: var(--disabled-bg-color);\n",
              "    fill: var(--disabled-fill-color);\n",
              "    box-shadow: none;\n",
              "  }\n",
              "\n",
              "  .colab-df-spinner {\n",
              "    border: 2px solid var(--fill-color);\n",
              "    border-color: transparent;\n",
              "    border-bottom-color: var(--fill-color);\n",
              "    animation:\n",
              "      spin 1s steps(1) infinite;\n",
              "  }\n",
              "\n",
              "  @keyframes spin {\n",
              "    0% {\n",
              "      border-color: transparent;\n",
              "      border-bottom-color: var(--fill-color);\n",
              "      border-left-color: var(--fill-color);\n",
              "    }\n",
              "    20% {\n",
              "      border-color: transparent;\n",
              "      border-left-color: var(--fill-color);\n",
              "      border-top-color: var(--fill-color);\n",
              "    }\n",
              "    30% {\n",
              "      border-color: transparent;\n",
              "      border-left-color: var(--fill-color);\n",
              "      border-top-color: var(--fill-color);\n",
              "      border-right-color: var(--fill-color);\n",
              "    }\n",
              "    40% {\n",
              "      border-color: transparent;\n",
              "      border-right-color: var(--fill-color);\n",
              "      border-top-color: var(--fill-color);\n",
              "    }\n",
              "    60% {\n",
              "      border-color: transparent;\n",
              "      border-right-color: var(--fill-color);\n",
              "    }\n",
              "    80% {\n",
              "      border-color: transparent;\n",
              "      border-right-color: var(--fill-color);\n",
              "      border-bottom-color: var(--fill-color);\n",
              "    }\n",
              "    90% {\n",
              "      border-color: transparent;\n",
              "      border-bottom-color: var(--fill-color);\n",
              "    }\n",
              "  }\n",
              "</style>\n",
              "\n",
              "      <script>\n",
              "        async function quickchart(key) {\n",
              "          const quickchartButtonEl =\n",
              "            document.querySelector('#' + key + ' button');\n",
              "          quickchartButtonEl.disabled = true;  // To prevent multiple clicks.\n",
              "          quickchartButtonEl.classList.add('colab-df-spinner');\n",
              "          try {\n",
              "            const charts = await google.colab.kernel.invokeFunction(\n",
              "                'suggestCharts', [key], {});\n",
              "          } catch (error) {\n",
              "            console.error('Error during call to suggestCharts:', error);\n",
              "          }\n",
              "          quickchartButtonEl.classList.remove('colab-df-spinner');\n",
              "          quickchartButtonEl.classList.add('colab-df-quickchart-complete');\n",
              "        }\n",
              "        (() => {\n",
              "          let quickchartButtonEl =\n",
              "            document.querySelector('#df-41c5f304-2b86-4645-b2db-b84b342abb26 button');\n",
              "          quickchartButtonEl.style.display =\n",
              "            google.colab.kernel.accessAllowed ? 'block' : 'none';\n",
              "        })();\n",
              "      </script>\n",
              "    </div>\n",
              "\n",
              "    </div>\n",
              "  </div>\n"
            ],
            "application/vnd.google.colaboratory.intrinsic+json": {
              "type": "dataframe",
              "variable_name": "data",
              "summary": "{\n  \"name\": \"data\",\n  \"rows\": 10000,\n  \"fields\": [\n    {\n      \"column\": \"call_duration\",\n      \"properties\": {\n        \"dtype\": \"number\",\n        \"std\": 17,\n        \"min\": 1,\n        \"max\": 59,\n        \"num_unique_values\": 59,\n        \"samples\": [\n          39,\n          8,\n          37\n        ],\n        \"semantic_type\": \"\",\n        \"description\": \"\"\n      }\n    },\n    {\n      \"column\": \"data_usage\",\n      \"properties\": {\n        \"dtype\": \"number\",\n        \"std\": 1.4111413895418559,\n        \"min\": 0.1,\n        \"max\": 5.0,\n        \"num_unique_values\": 491,\n        \"samples\": [\n          1.63,\n          5.0,\n          4.15\n        ],\n        \"semantic_type\": \"\",\n        \"description\": \"\"\n      }\n    },\n    {\n      \"column\": \"num_calls\",\n      \"properties\": {\n        \"dtype\": \"number\",\n        \"std\": 8,\n        \"min\": 1,\n        \"max\": 29,\n        \"num_unique_values\": 29,\n        \"samples\": [\n          5,\n          22,\n          20\n        ],\n        \"semantic_type\": \"\",\n        \"description\": \"\"\n      }\n    },\n    {\n      \"column\": \"sms_count\",\n      \"properties\": {\n        \"dtype\": \"number\",\n        \"std\": 14,\n        \"min\": 0,\n        \"max\": 49,\n        \"num_unique_values\": 50,\n        \"samples\": [\n          17,\n          31,\n          30\n        ],\n        \"semantic_type\": \"\",\n        \"description\": \"\"\n      }\n    },\n    {\n      \"column\": \"customer_id\",\n      \"properties\": {\n        \"dtype\": \"number\",\n        \"std\": 2886,\n        \"min\": 1,\n        \"max\": 10000,\n        \"num_unique_values\": 10000,\n        \"samples\": [\n          6253,\n          4685,\n          1732\n        ],\n        \"semantic_type\": \"\",\n        \"description\": \"\"\n      }\n    }\n  ]\n}"
            }
          },
          "metadata": {},
          "execution_count": 86
        }
      ]
    },
    {
      "cell_type": "code",
      "source": [
        "customer_ids = data['customer_id'].values"
      ],
      "metadata": {
        "id": "sCBokQY0_2GH"
      },
      "execution_count": 87,
      "outputs": []
    },
    {
      "cell_type": "code",
      "source": [
        "features = data[['call_duration', 'data_usage', 'num_calls', 'sms_count']].values"
      ],
      "metadata": {
        "id": "BMm6deZg20RC"
      },
      "execution_count": 88,
      "outputs": []
    },
    {
      "cell_type": "code",
      "source": [
        "scaler = StandardScaler()\n",
        "features_scaled = scaler.fit_transform(features)"
      ],
      "metadata": {
        "id": "DJEkY9_L20Wq"
      },
      "execution_count": 89,
      "outputs": []
    },
    {
      "cell_type": "code",
      "source": [
        "features_scaled"
      ],
      "metadata": {
        "colab": {
          "base_uri": "https://localhost:8080/"
        },
        "id": "5ZtlJXFf20ZK",
        "outputId": "f8ec1100-847d-4cd7-d825-0b1494f718ff"
      },
      "execution_count": 90,
      "outputs": [
        {
          "output_type": "execute_result",
          "data": {
            "text/plain": [
              "array([[ 0.51344781, -1.71046127, -0.23855445, -1.65280764],\n",
              "       [ 1.27721853, -0.03088576, -0.71810906, -0.04517449],\n",
              "       [-0.07406813,  1.68412382,  0.72055479, -0.67424833],\n",
              "       ...,\n",
              "       [ 1.45347331, -0.13718801, -0.11866579,  1.56245866],\n",
              "       [ 0.51344781, -1.5970722 ,  0.36088883,  0.30431098],\n",
              "       [ 1.45347331,  1.31560937, -1.43744099,  0.23441388]])"
            ]
          },
          "metadata": {},
          "execution_count": 90
        }
      ]
    },
    {
      "cell_type": "code",
      "source": [
        "train_data, test_data, train_ids, test_ids = train_test_split(\n",
        "    features_scaled, customer_ids, test_size=0.2, random_state=42\n",
        ")"
      ],
      "metadata": {
        "id": "BSOROH6B20by"
      },
      "execution_count": 91,
      "outputs": []
    },
    {
      "cell_type": "code",
      "source": [
        "class Autoencoder(nn.Module):\n",
        "  def __init__(self, input_dim, output_dim):\n",
        "    super(Autoencoder, self).__init__()\n",
        "    self.encoder = nn.Sequential(\n",
        "        nn.Linear(input_dim, hidden_dim),\n",
        "        nn.ReLU(),\n",
        "        nn.Linear(hidden_dim, hidden_dim // 2),\n",
        "        nn.ReLU()\n",
        "\n",
        "    )\n",
        "    self.decoder = nn.Sequential(\n",
        "        nn.Linear(hidden_dim // 2, hidden_dim),\n",
        "        nn.ReLU(),\n",
        "        nn.Linear(hidden_dim, input_dim),\n",
        "        nn.Sigmoid()\n",
        "    )\n",
        "  def forward(self, x):\n",
        "    encoded = self.encoder(x)\n",
        "    decoded = self.decoder(encoded)\n",
        "    return decoded"
      ],
      "metadata": {
        "id": "EGP8TbA720eU"
      },
      "execution_count": 92,
      "outputs": []
    },
    {
      "cell_type": "code",
      "source": [
        "input_dim = train_data.shape[1]\n",
        "input_dim"
      ],
      "metadata": {
        "colab": {
          "base_uri": "https://localhost:8080/"
        },
        "id": "806vLUh320hC",
        "outputId": "1a369ab2-2aad-47f7-f4f4-09eeec0eb7bd"
      },
      "execution_count": 93,
      "outputs": [
        {
          "output_type": "execute_result",
          "data": {
            "text/plain": [
              "4"
            ]
          },
          "metadata": {},
          "execution_count": 93
        }
      ]
    },
    {
      "cell_type": "code",
      "source": [
        "hidden_dim = 64"
      ],
      "metadata": {
        "id": "bao-DuPq20jj"
      },
      "execution_count": 94,
      "outputs": []
    },
    {
      "cell_type": "code",
      "source": [
        "model = Autoencoder(input_dim, hidden_dim)\n",
        "model"
      ],
      "metadata": {
        "colab": {
          "base_uri": "https://localhost:8080/"
        },
        "id": "hjgncge_20mC",
        "outputId": "a4dd52b8-480e-4321-eba4-d91db1321e6a"
      },
      "execution_count": 95,
      "outputs": [
        {
          "output_type": "execute_result",
          "data": {
            "text/plain": [
              "Autoencoder(\n",
              "  (encoder): Sequential(\n",
              "    (0): Linear(in_features=4, out_features=64, bias=True)\n",
              "    (1): ReLU()\n",
              "    (2): Linear(in_features=64, out_features=32, bias=True)\n",
              "    (3): ReLU()\n",
              "  )\n",
              "  (decoder): Sequential(\n",
              "    (0): Linear(in_features=32, out_features=64, bias=True)\n",
              "    (1): ReLU()\n",
              "    (2): Linear(in_features=64, out_features=4, bias=True)\n",
              "    (3): Sigmoid()\n",
              "  )\n",
              ")"
            ]
          },
          "metadata": {},
          "execution_count": 95
        }
      ]
    },
    {
      "cell_type": "code",
      "source": [
        "dataset = TensorDataset(torch.tensor(train_data, dtype=torch.float32))\n",
        "dataloader = DataLoader(dataset, batch_size=32, shuffle=True)"
      ],
      "metadata": {
        "id": "nuxxzOaf20og"
      },
      "execution_count": 96,
      "outputs": []
    },
    {
      "cell_type": "code",
      "source": [
        "dataloader"
      ],
      "metadata": {
        "colab": {
          "base_uri": "https://localhost:8080/"
        },
        "id": "hQ9UVCTF8sfZ",
        "outputId": "a3664767-8b71-42cb-86a1-5c203a091aad"
      },
      "execution_count": 97,
      "outputs": [
        {
          "output_type": "execute_result",
          "data": {
            "text/plain": [
              "<torch.utils.data.dataloader.DataLoader at 0x7f1e0e649f10>"
            ]
          },
          "metadata": {},
          "execution_count": 97
        }
      ]
    },
    {
      "cell_type": "code",
      "source": [
        "loss_fn = nn.MSELoss()\n",
        "optimizer = optim.Adam(model.parameters(), lr=0.001)"
      ],
      "metadata": {
        "id": "9bDeYOeH20rL"
      },
      "execution_count": 98,
      "outputs": []
    },
    {
      "cell_type": "code",
      "source": [
        "model.train()\n",
        "epochs = 50"
      ],
      "metadata": {
        "id": "d5jBvBVr20tz"
      },
      "execution_count": 99,
      "outputs": []
    },
    {
      "cell_type": "code",
      "source": [
        "for epoch in range(epochs):\n",
        "  total_loss = 0\n",
        "  for batch in dataloader:\n",
        "    inputs = batch[0]\n",
        "    optimizer.zero_grad()\n",
        "    outputs = model(inputs)\n",
        "    loss = loss_fn(outputs, inputs)\n",
        "    loss.backward()\n",
        "    optimizer.step()\n",
        "    total_loss += loss.item()\n",
        "  print(f'Epoch {epoch+1}/{epochs}, Loss: {total_loss/len(dataloader):.6f}')"
      ],
      "metadata": {
        "colab": {
          "base_uri": "https://localhost:8080/"
        },
        "id": "Hru_Do6f7Jbj",
        "outputId": "05055bd9-9f63-4348-b4c2-5490a7d46f08"
      },
      "execution_count": 100,
      "outputs": [
        {
          "output_type": "stream",
          "name": "stdout",
          "text": [
            "Epoch 1/50, Loss: 0.705776\n",
            "Epoch 2/50, Loss: 0.540134\n",
            "Epoch 3/50, Loss: 0.539455\n",
            "Epoch 4/50, Loss: 0.539326\n",
            "Epoch 5/50, Loss: 0.539266\n",
            "Epoch 6/50, Loss: 0.539282\n",
            "Epoch 7/50, Loss: 0.539191\n",
            "Epoch 8/50, Loss: 0.539214\n",
            "Epoch 9/50, Loss: 0.539142\n",
            "Epoch 10/50, Loss: 0.539115\n",
            "Epoch 11/50, Loss: 0.539115\n",
            "Epoch 12/50, Loss: 0.539108\n",
            "Epoch 13/50, Loss: 0.539063\n",
            "Epoch 14/50, Loss: 0.539037\n",
            "Epoch 15/50, Loss: 0.538999\n",
            "Epoch 16/50, Loss: 0.538892\n",
            "Epoch 17/50, Loss: 0.538882\n",
            "Epoch 18/50, Loss: 0.538800\n",
            "Epoch 19/50, Loss: 0.538732\n",
            "Epoch 20/50, Loss: 0.538656\n",
            "Epoch 21/50, Loss: 0.538603\n",
            "Epoch 22/50, Loss: 0.538555\n",
            "Epoch 23/50, Loss: 0.538490\n",
            "Epoch 24/50, Loss: 0.538388\n",
            "Epoch 25/50, Loss: 0.538260\n",
            "Epoch 26/50, Loss: 0.538222\n",
            "Epoch 27/50, Loss: 0.538108\n",
            "Epoch 28/50, Loss: 0.537937\n",
            "Epoch 29/50, Loss: 0.537845\n",
            "Epoch 30/50, Loss: 0.537691\n",
            "Epoch 31/50, Loss: 0.537597\n",
            "Epoch 32/50, Loss: 0.537483\n",
            "Epoch 33/50, Loss: 0.537418\n",
            "Epoch 34/50, Loss: 0.537309\n",
            "Epoch 35/50, Loss: 0.537329\n",
            "Epoch 36/50, Loss: 0.537265\n",
            "Epoch 37/50, Loss: 0.537234\n",
            "Epoch 38/50, Loss: 0.537211\n",
            "Epoch 39/50, Loss: 0.537196\n",
            "Epoch 40/50, Loss: 0.537126\n",
            "Epoch 41/50, Loss: 0.537118\n",
            "Epoch 42/50, Loss: 0.537130\n",
            "Epoch 43/50, Loss: 0.537100\n",
            "Epoch 44/50, Loss: 0.537101\n",
            "Epoch 45/50, Loss: 0.537040\n",
            "Epoch 46/50, Loss: 0.537118\n",
            "Epoch 47/50, Loss: 0.537130\n",
            "Epoch 48/50, Loss: 0.537106\n",
            "Epoch 49/50, Loss: 0.537124\n",
            "Epoch 50/50, Loss: 0.537026\n"
          ]
        }
      ]
    },
    {
      "cell_type": "code",
      "source": [
        "model.eval()\n",
        "with torch.no_grad():\n",
        "  data_tensor = torch.tensor(test_data, dtype=torch.float32)\n",
        "  y_hat = model(data_tensor)\n",
        "  mse = torch.mean((y_hat - data_tensor )** 2, dim=1)\n",
        "  mse_np = mse.numpy()"
      ],
      "metadata": {
        "id": "B2MStngz7Jej"
      },
      "execution_count": 101,
      "outputs": []
    },
    {
      "cell_type": "markdown",
      "source": [
        "Creates a boolean mask (anomaly_mask) where True indicates records with reconstruction errors exceeding 3 standard deviations above the mean of mse_original_scale."
      ],
      "metadata": {
        "id": "8WyJk6xCFLTW"
      }
    },
    {
      "cell_type": "code",
      "source": [
        "# Inverse transform to original scale for interpretation\n",
        "mse_original_scale = mse_np * scaler.var_.mean()\n",
        "\n",
        "# Flag anomalies based on threshold (3 standard deviations)\n",
        "threshold = 3\n",
        "anomaly_mask = mse_original_scale > threshold * np.std(mse_original_scale)\n",
        "anomalies = np.where(anomaly_mask)[0]\n",
        "\n",
        "# Output results with customer_id\n",
        "print(f\"Detected {len(anomalies)} anomalies in the test data.\")\n",
        "for idx in anomalies:\n",
        "    print(f\"Anomaly at index {idx}, Customer ID: {test_ids[idx]}, Reconstruction Error: {mse_original_scale[idx]:.4f}\")"
      ],
      "metadata": {
        "colab": {
          "base_uri": "https://localhost:8080/"
        },
        "id": "ef_FVpaq7JhG",
        "outputId": "937e312d-c68e-4c21-b6fa-f4134034bd3c"
      },
      "execution_count": 102,
      "outputs": [
        {
          "output_type": "stream",
          "name": "stdout",
          "text": [
            "Detected 144 anomalies in the test data.\n",
            "Anomaly at index 22, Customer ID: 4641, Reconstruction Error: 245.1508\n",
            "Anomaly at index 38, Customer ID: 3974, Reconstruction Error: 180.8087\n",
            "Anomaly at index 47, Customer ID: 3466, Reconstruction Error: 290.4696\n",
            "Anomaly at index 50, Customer ID: 3724, Reconstruction Error: 195.7891\n",
            "Anomaly at index 58, Customer ID: 2546, Reconstruction Error: 215.2083\n",
            "Anomaly at index 70, Customer ID: 5324, Reconstruction Error: 265.9928\n",
            "Anomaly at index 71, Customer ID: 800, Reconstruction Error: 200.6011\n",
            "Anomaly at index 86, Customer ID: 3306, Reconstruction Error: 217.4302\n",
            "Anomaly at index 93, Customer ID: 1057, Reconstruction Error: 220.7726\n",
            "Anomaly at index 109, Customer ID: 2341, Reconstruction Error: 194.8581\n",
            "Anomaly at index 117, Customer ID: 766, Reconstruction Error: 267.0207\n",
            "Anomaly at index 154, Customer ID: 5270, Reconstruction Error: 167.8461\n",
            "Anomaly at index 155, Customer ID: 6898, Reconstruction Error: 204.2284\n",
            "Anomaly at index 199, Customer ID: 3913, Reconstruction Error: 242.4834\n",
            "Anomaly at index 223, Customer ID: 1248, Reconstruction Error: 170.1657\n",
            "Anomaly at index 241, Customer ID: 3411, Reconstruction Error: 253.8271\n",
            "Anomaly at index 253, Customer ID: 6600, Reconstruction Error: 177.3096\n",
            "Anomaly at index 257, Customer ID: 9702, Reconstruction Error: 167.6824\n",
            "Anomaly at index 270, Customer ID: 4113, Reconstruction Error: 183.1259\n",
            "Anomaly at index 275, Customer ID: 5854, Reconstruction Error: 187.6307\n",
            "Anomaly at index 277, Customer ID: 1594, Reconstruction Error: 201.3067\n",
            "Anomaly at index 305, Customer ID: 5636, Reconstruction Error: 229.5704\n",
            "Anomaly at index 306, Customer ID: 8482, Reconstruction Error: 179.6825\n",
            "Anomaly at index 318, Customer ID: 7530, Reconstruction Error: 217.5032\n",
            "Anomaly at index 319, Customer ID: 5796, Reconstruction Error: 263.8034\n",
            "Anomaly at index 330, Customer ID: 1651, Reconstruction Error: 211.9255\n",
            "Anomaly at index 338, Customer ID: 6150, Reconstruction Error: 169.7967\n",
            "Anomaly at index 341, Customer ID: 8261, Reconstruction Error: 194.8397\n",
            "Anomaly at index 356, Customer ID: 5538, Reconstruction Error: 199.9103\n",
            "Anomaly at index 374, Customer ID: 2911, Reconstruction Error: 274.4153\n",
            "Anomaly at index 383, Customer ID: 3313, Reconstruction Error: 169.6435\n",
            "Anomaly at index 403, Customer ID: 8850, Reconstruction Error: 167.8372\n",
            "Anomaly at index 425, Customer ID: 8311, Reconstruction Error: 198.8928\n",
            "Anomaly at index 449, Customer ID: 3527, Reconstruction Error: 202.8384\n",
            "Anomaly at index 454, Customer ID: 1559, Reconstruction Error: 177.7208\n",
            "Anomaly at index 456, Customer ID: 3008, Reconstruction Error: 189.4238\n",
            "Anomaly at index 458, Customer ID: 304, Reconstruction Error: 175.4613\n",
            "Anomaly at index 477, Customer ID: 8707, Reconstruction Error: 244.7662\n",
            "Anomaly at index 478, Customer ID: 4930, Reconstruction Error: 220.4868\n",
            "Anomaly at index 488, Customer ID: 291, Reconstruction Error: 171.5434\n",
            "Anomaly at index 516, Customer ID: 5054, Reconstruction Error: 173.9030\n",
            "Anomaly at index 534, Customer ID: 3598, Reconstruction Error: 168.5495\n",
            "Anomaly at index 546, Customer ID: 4211, Reconstruction Error: 171.7825\n",
            "Anomaly at index 556, Customer ID: 5235, Reconstruction Error: 215.8743\n",
            "Anomaly at index 564, Customer ID: 9894, Reconstruction Error: 227.7738\n",
            "Anomaly at index 565, Customer ID: 2076, Reconstruction Error: 180.4655\n",
            "Anomaly at index 581, Customer ID: 3318, Reconstruction Error: 217.5537\n",
            "Anomaly at index 586, Customer ID: 5506, Reconstruction Error: 172.2702\n",
            "Anomaly at index 590, Customer ID: 1759, Reconstruction Error: 197.1989\n",
            "Anomaly at index 597, Customer ID: 1, Reconstruction Error: 202.1712\n",
            "Anomaly at index 604, Customer ID: 3465, Reconstruction Error: 278.6091\n",
            "Anomaly at index 605, Customer ID: 458, Reconstruction Error: 185.6228\n",
            "Anomaly at index 615, Customer ID: 6201, Reconstruction Error: 170.4279\n",
            "Anomaly at index 625, Customer ID: 8709, Reconstruction Error: 257.0340\n",
            "Anomaly at index 627, Customer ID: 3048, Reconstruction Error: 223.0228\n",
            "Anomaly at index 644, Customer ID: 762, Reconstruction Error: 195.5563\n",
            "Anomaly at index 645, Customer ID: 7221, Reconstruction Error: 205.6149\n",
            "Anomaly at index 671, Customer ID: 8342, Reconstruction Error: 170.6501\n",
            "Anomaly at index 694, Customer ID: 9548, Reconstruction Error: 183.9339\n",
            "Anomaly at index 700, Customer ID: 6548, Reconstruction Error: 180.5938\n",
            "Anomaly at index 706, Customer ID: 6483, Reconstruction Error: 181.2910\n",
            "Anomaly at index 713, Customer ID: 37, Reconstruction Error: 248.3609\n",
            "Anomaly at index 723, Customer ID: 578, Reconstruction Error: 195.1112\n",
            "Anomaly at index 736, Customer ID: 1331, Reconstruction Error: 171.0246\n",
            "Anomaly at index 744, Customer ID: 1966, Reconstruction Error: 174.0635\n",
            "Anomaly at index 824, Customer ID: 5607, Reconstruction Error: 231.5926\n",
            "Anomaly at index 836, Customer ID: 5522, Reconstruction Error: 175.5251\n",
            "Anomaly at index 839, Customer ID: 5873, Reconstruction Error: 224.9643\n",
            "Anomaly at index 840, Customer ID: 8613, Reconstruction Error: 239.7421\n",
            "Anomaly at index 857, Customer ID: 6203, Reconstruction Error: 224.6499\n",
            "Anomaly at index 862, Customer ID: 8108, Reconstruction Error: 178.6876\n",
            "Anomaly at index 895, Customer ID: 9496, Reconstruction Error: 216.4891\n",
            "Anomaly at index 899, Customer ID: 1112, Reconstruction Error: 190.3264\n",
            "Anomaly at index 916, Customer ID: 249, Reconstruction Error: 190.2912\n",
            "Anomaly at index 946, Customer ID: 462, Reconstruction Error: 189.4965\n",
            "Anomaly at index 959, Customer ID: 411, Reconstruction Error: 205.9467\n",
            "Anomaly at index 961, Customer ID: 3152, Reconstruction Error: 201.6687\n",
            "Anomaly at index 974, Customer ID: 8468, Reconstruction Error: 214.1350\n",
            "Anomaly at index 993, Customer ID: 1384, Reconstruction Error: 213.3550\n",
            "Anomaly at index 1004, Customer ID: 9172, Reconstruction Error: 213.0243\n",
            "Anomaly at index 1010, Customer ID: 514, Reconstruction Error: 183.3942\n",
            "Anomaly at index 1044, Customer ID: 1902, Reconstruction Error: 240.1106\n",
            "Anomaly at index 1046, Customer ID: 4711, Reconstruction Error: 180.2924\n",
            "Anomaly at index 1056, Customer ID: 4295, Reconstruction Error: 171.2099\n",
            "Anomaly at index 1060, Customer ID: 909, Reconstruction Error: 187.0375\n",
            "Anomaly at index 1065, Customer ID: 5305, Reconstruction Error: 168.0755\n",
            "Anomaly at index 1085, Customer ID: 5596, Reconstruction Error: 187.2366\n",
            "Anomaly at index 1086, Customer ID: 2887, Reconstruction Error: 229.9168\n",
            "Anomaly at index 1094, Customer ID: 9609, Reconstruction Error: 193.2542\n",
            "Anomaly at index 1114, Customer ID: 1278, Reconstruction Error: 210.5099\n",
            "Anomaly at index 1135, Customer ID: 2996, Reconstruction Error: 211.9272\n",
            "Anomaly at index 1165, Customer ID: 8317, Reconstruction Error: 178.3962\n",
            "Anomaly at index 1173, Customer ID: 3949, Reconstruction Error: 171.1780\n",
            "Anomaly at index 1177, Customer ID: 9863, Reconstruction Error: 218.0275\n",
            "Anomaly at index 1209, Customer ID: 1311, Reconstruction Error: 168.5556\n",
            "Anomaly at index 1222, Customer ID: 744, Reconstruction Error: 194.1606\n",
            "Anomaly at index 1223, Customer ID: 223, Reconstruction Error: 184.4255\n",
            "Anomaly at index 1234, Customer ID: 9686, Reconstruction Error: 199.5964\n",
            "Anomaly at index 1245, Customer ID: 2998, Reconstruction Error: 215.2760\n",
            "Anomaly at index 1249, Customer ID: 1480, Reconstruction Error: 182.6732\n",
            "Anomaly at index 1250, Customer ID: 1019, Reconstruction Error: 236.1209\n",
            "Anomaly at index 1258, Customer ID: 5191, Reconstruction Error: 185.3384\n",
            "Anomaly at index 1265, Customer ID: 2868, Reconstruction Error: 174.2988\n",
            "Anomaly at index 1318, Customer ID: 6118, Reconstruction Error: 169.4996\n",
            "Anomaly at index 1344, Customer ID: 4657, Reconstruction Error: 167.6549\n",
            "Anomaly at index 1372, Customer ID: 3173, Reconstruction Error: 231.7027\n",
            "Anomaly at index 1379, Customer ID: 5951, Reconstruction Error: 187.7481\n",
            "Anomaly at index 1390, Customer ID: 3065, Reconstruction Error: 176.7778\n",
            "Anomaly at index 1407, Customer ID: 3022, Reconstruction Error: 185.4443\n",
            "Anomaly at index 1411, Customer ID: 6642, Reconstruction Error: 177.6800\n",
            "Anomaly at index 1429, Customer ID: 7877, Reconstruction Error: 203.4966\n",
            "Anomaly at index 1446, Customer ID: 3012, Reconstruction Error: 202.5313\n",
            "Anomaly at index 1448, Customer ID: 7153, Reconstruction Error: 184.5550\n",
            "Anomaly at index 1475, Customer ID: 3536, Reconstruction Error: 221.4912\n",
            "Anomaly at index 1489, Customer ID: 3854, Reconstruction Error: 214.5247\n",
            "Anomaly at index 1492, Customer ID: 512, Reconstruction Error: 188.4835\n",
            "Anomaly at index 1505, Customer ID: 8500, Reconstruction Error: 224.1702\n",
            "Anomaly at index 1532, Customer ID: 5045, Reconstruction Error: 179.5529\n",
            "Anomaly at index 1559, Customer ID: 2755, Reconstruction Error: 200.9858\n",
            "Anomaly at index 1567, Customer ID: 5072, Reconstruction Error: 214.1693\n",
            "Anomaly at index 1574, Customer ID: 7622, Reconstruction Error: 186.9195\n",
            "Anomaly at index 1610, Customer ID: 6805, Reconstruction Error: 183.8998\n",
            "Anomaly at index 1680, Customer ID: 1251, Reconstruction Error: 172.5719\n",
            "Anomaly at index 1694, Customer ID: 9630, Reconstruction Error: 207.1555\n",
            "Anomaly at index 1697, Customer ID: 5923, Reconstruction Error: 173.8741\n",
            "Anomaly at index 1704, Customer ID: 3861, Reconstruction Error: 170.9156\n",
            "Anomaly at index 1721, Customer ID: 884, Reconstruction Error: 179.5141\n",
            "Anomaly at index 1757, Customer ID: 4346, Reconstruction Error: 188.7978\n",
            "Anomaly at index 1762, Customer ID: 6474, Reconstruction Error: 171.6661\n",
            "Anomaly at index 1776, Customer ID: 7881, Reconstruction Error: 206.8530\n",
            "Anomaly at index 1781, Customer ID: 1401, Reconstruction Error: 177.7439\n",
            "Anomaly at index 1789, Customer ID: 5341, Reconstruction Error: 179.9560\n",
            "Anomaly at index 1797, Customer ID: 2908, Reconstruction Error: 170.0574\n",
            "Anomaly at index 1835, Customer ID: 4348, Reconstruction Error: 221.3482\n",
            "Anomaly at index 1837, Customer ID: 1347, Reconstruction Error: 183.4538\n",
            "Anomaly at index 1839, Customer ID: 8948, Reconstruction Error: 168.5140\n",
            "Anomaly at index 1850, Customer ID: 7736, Reconstruction Error: 229.2257\n",
            "Anomaly at index 1851, Customer ID: 834, Reconstruction Error: 199.8696\n",
            "Anomaly at index 1933, Customer ID: 8029, Reconstruction Error: 212.1889\n",
            "Anomaly at index 1940, Customer ID: 6224, Reconstruction Error: 174.7807\n",
            "Anomaly at index 1955, Customer ID: 8137, Reconstruction Error: 173.6965\n",
            "Anomaly at index 1972, Customer ID: 2134, Reconstruction Error: 207.8755\n",
            "Anomaly at index 1977, Customer ID: 4699, Reconstruction Error: 317.4440\n",
            "Anomaly at index 1991, Customer ID: 7723, Reconstruction Error: 175.0072\n"
          ]
        }
      ]
    },
    {
      "cell_type": "markdown",
      "source": [
        "##Possible Reasons for Anomalies:\n",
        "\n",
        "####**Fraudulent Activity:** High sms_count or num_calls with low data_usage could indicate spam or automated systems.\n",
        "\n",
        "####**Data Errors:** Incorrectly recorded values (e.g., extremely low data_usage or call_duration).\n",
        "\n",
        "####**Unique Usage Patterns:** Customers with niche behaviors, like heavy SMS usage but minimal data or calls, which don’t align with typical user profiles.\n",
        "\n",
        "####**System Issues:** Anomalies could reflect network errors, billing issues, or test accounts."
      ],
      "metadata": {
        "id": "4VlhQQ_DOx9E"
      }
    },
    {
      "cell_type": "code",
      "source": [],
      "metadata": {
        "id": "9wgGc9Jm20wl"
      },
      "execution_count": 102,
      "outputs": []
    },
    {
      "cell_type": "code",
      "source": [],
      "metadata": {
        "id": "I62xfdw520zB"
      },
      "execution_count": 102,
      "outputs": []
    }
  ]
}